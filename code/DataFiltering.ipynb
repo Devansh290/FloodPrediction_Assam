{
 "cells": [
  {
   "cell_type": "code",
   "execution_count": 1,
   "id": "25e1f21d",
   "metadata": {},
   "outputs": [
    {
     "name": "stdout",
     "output_type": "stream",
     "text": [
      "Filtered data has been successfully saved to 'filtered_flood_data.xlsx'\n"
     ]
    }
   ],
   "source": [
    "import pandas as pd\n",
    "\n",
    "# Load the Excel file\n",
    "df = pd.read_excel('cleaned_flood_data_grouped.xlsx')\n",
    "\n",
    "# Define the target latitude and longitude range boundaries\n",
    "min_longitude = 89.045\n",
    "max_longitude = 96.000\n",
    "min_latitude = 24.0\n",
    "max_latitude = 28.0\n",
    "\n",
    "# Filter data based on latitude and longitude ranges\n",
    "filtered_df = df[(df['Longitude'] >= min_longitude) & (df['Longitude'] <= max_longitude) &\n",
    "                 (df['Latitude'] >= min_latitude) & (df['Latitude'] <= max_latitude)]\n",
    "\n",
    "# Save the filtered data to a new Excel file\n",
    "filtered_df.to_excel('filtered_flood_data.xlsx', index=False)\n",
    "\n",
    "print(\"Filtered data has been successfully saved to 'filtered_flood_data.xlsx'\")\n"
   ]
  },
  {
   "cell_type": "code",
   "execution_count": null,
   "id": "4b1709c8",
   "metadata": {},
   "outputs": [],
   "source": []
  }
 ],
 "metadata": {
  "kernelspec": {
   "display_name": "Python 3 (ipykernel)",
   "language": "python",
   "name": "python3"
  },
  "language_info": {
   "codemirror_mode": {
    "name": "ipython",
    "version": 3
   },
   "file_extension": ".py",
   "mimetype": "text/x-python",
   "name": "python",
   "nbconvert_exporter": "python",
   "pygments_lexer": "ipython3",
   "version": "3.11.4"
  }
 },
 "nbformat": 4,
 "nbformat_minor": 5
}
