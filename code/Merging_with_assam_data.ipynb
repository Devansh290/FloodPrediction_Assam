{
 "cells": [
  {
   "cell_type": "code",
   "execution_count": 5,
   "id": "43776fbb",
   "metadata": {},
   "outputs": [],
   "source": [
    "import pandas as pd\n",
    "\n",
    "# Load the datasets from Excel files\n",
    "filtered_flood_data = pd.read_excel('filtered_flood_data.xlsx')\n",
    "assam_rainfall = pd.read_csv('assam_rainfall.csv')\n",
    "\n",
    "# Convert date columns to datetime for easier comparison\n",
    "filtered_flood_data['Start Date'] = pd.to_datetime(filtered_flood_data['Start Date'])\n",
    "filtered_flood_data['End Date'] = pd.to_datetime(filtered_flood_data['End Date'])\n",
    "assam_rainfall['Dates'] = pd.to_datetime(assam_rainfall['Dates'])\n",
    "\n",
    "# Define a function to check if a date falls within any flood date range\n",
    "def is_flood(date):\n",
    "    return any((date >= row['Start Date']) and (date <= row['End Date']) for _, row in filtered_flood_data.iterrows())\n",
    "\n",
    "# Define a function to check if a date falls within any flood date range and has severity > 1\n",
    "def is_severe_flood(date):\n",
    "    return any((date >= row['Start Date']) and (date <= row['End Date']) and (row['Severity'] > 1) for _, row in filtered_flood_data.iterrows())\n",
    "\n",
    "# Apply the functions to each date in the Assam rainfall dataset\n",
    "assam_rainfall['flood 1'] = assam_rainfall['Dates'].apply(lambda x: 1 if is_flood(x) else 0)\n",
    "assam_rainfall['flood 2'] = assam_rainfall['Dates'].apply(lambda x: 1 if is_severe_flood(x) else 0)\n",
    "\n",
    "# Optionally, save the updated dataset to a new Excel file\n",
    "assam_rainfall.to_excel('Assam_rainfall_with_flood_columns.xlsx', index=False)\n",
    "\n"
   ]
  },
  {
   "cell_type": "code",
   "execution_count": null,
   "id": "e86ff93c",
   "metadata": {},
   "outputs": [],
   "source": []
  }
 ],
 "metadata": {
  "kernelspec": {
   "display_name": "Python 3 (ipykernel)",
   "language": "python",
   "name": "python3"
  },
  "language_info": {
   "codemirror_mode": {
    "name": "ipython",
    "version": 3
   },
   "file_extension": ".py",
   "mimetype": "text/x-python",
   "name": "python",
   "nbconvert_exporter": "python",
   "pygments_lexer": "ipython3",
   "version": "3.11.4"
  }
 },
 "nbformat": 4,
 "nbformat_minor": 5
}
